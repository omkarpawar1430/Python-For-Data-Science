{
 "cells": [
  {
   "attachments": {},
   "cell_type": "markdown",
   "metadata": {},
   "source": [
    "# Dictionaries | Python for Data Science"
   ]
  },
  {
   "cell_type": "code",
   "execution_count": 5,
   "metadata": {},
   "outputs": [
    {
     "name": "stdout",
     "output_type": "stream",
     "text": [
      "[{'name': 'Alice', 'age': 28}, {'name': 'Bob', 'age': 22}, {'name': 'Charlie', 'age': 28}, {'name': 'David', 'age': 22}]\n",
      "_______\n",
      "[{'name': 'Bob', 'age': 22}, {'name': 'David', 'age': 22}, {'name': 'Alice', 'age': 28}, {'name': 'Charlie', 'age': 28}]\n",
      "{22: [{'name': 'Bob', 'age': 22}, {'name': 'David', 'age': 22}], 28: [{'name': 'Alice', 'age': 28}, {'name': 'Charlie', 'age': 28}]}\n"
     ]
    }
   ],
   "source": [
    "from itertools import groupby\n",
    "\n",
    "people = [\n",
    "    {'name': 'Alice', 'age': 28},\n",
    "    {'name': 'Bob', 'age': 22},\n",
    "    {'name': 'Charlie', 'age': 28},\n",
    "    {'name': 'David', 'age': 22}\n",
    "]\n",
    "\n",
    "# Group people by age\n",
    "print(people)\n",
    "people.sort(key=lambda x: x['age']) # We can sort dictionary according to it's values. \n",
    "print(\"_______\")\n",
    "print(people)\n",
    "\n",
    "\n",
    "grouped_people = {age: list(group) for age, group in groupby(people, key=lambda x: x['age'])}\n",
    "\n",
    "\n",
    "print(grouped_people)\n"
   ]
  },
  {
   "cell_type": "code",
   "execution_count": null,
   "metadata": {},
   "outputs": [],
   "source": []
  }
 ],
 "metadata": {
  "kernelspec": {
   "display_name": "Python 3",
   "language": "python",
   "name": "python3"
  },
  "language_info": {
   "codemirror_mode": {
    "name": "ipython",
    "version": 3
   },
   "file_extension": ".py",
   "mimetype": "text/x-python",
   "name": "python",
   "nbconvert_exporter": "python",
   "pygments_lexer": "ipython3",
   "version": "3.10.12"
  },
  "orig_nbformat": 4
 },
 "nbformat": 4,
 "nbformat_minor": 2
}
