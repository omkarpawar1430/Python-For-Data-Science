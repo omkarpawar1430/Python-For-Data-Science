{
 "cells": [
  {
   "attachments": {},
   "cell_type": "markdown",
   "metadata": {},
   "source": [
    "# Decorators"
   ]
  },
  {
   "attachments": {},
   "cell_type": "markdown",
   "metadata": {},
   "source": [
    "A python nested function which allows us to modify the behavior of another function without changing it's code directly."
   ]
  },
  {
   "attachments": {},
   "cell_type": "markdown",
   "metadata": {},
   "source": [
    "------------"
   ]
  },
  {
   "attachments": {},
   "cell_type": "markdown",
   "metadata": {},
   "source": [
    "## Types of Decorators:"
   ]
  },
  {
   "attachments": {},
   "cell_type": "markdown",
   "metadata": {},
   "source": [
    "### Function Decorator:"
   ]
  },
  {
   "cell_type": "code",
   "execution_count": 6,
   "metadata": {},
   "outputs": [
    {
     "name": "stdout",
     "output_type": "stream",
     "text": [
      "I am basic robot and I  can't fight.\n",
      "Attaching laser gun...\n",
      "I have laser gun and I can fight.\n"
     ]
    }
   ],
   "source": [
    "def add_laser_gun(func):\n",
    "    def wrapper():\n",
    "        print(func())\n",
    "        print(\"Attaching laser gun...\")\n",
    "        print(\"I have laser gun and I can fight.\")\n",
    "    return wrapper\n",
    "\n",
    "@add_laser_gun\n",
    "def basic_robot():\n",
    "    return \"I am basic robot and I  can't fight.\"\n",
    "\n",
    "basic_robot()"
   ]
  },
  {
   "attachments": {},
   "cell_type": "markdown",
   "metadata": {},
   "source": [
    "### Class Decorator:"
   ]
  },
  {
   "cell_type": "code",
   "execution_count": 14,
   "metadata": {},
   "outputs": [
    {
     "name": "stdout",
     "output_type": "stream",
     "text": [
      "I am basic robot and I can't fight\n",
      "Attaching Laser gun...\n",
      "I have laser gun and I can fight.\n"
     ]
    }
   ],
   "source": [
    "def modify_robot(cls):\n",
    "    class modify_to_fighting_robot(cls):\n",
    "        def fight(self):\n",
    "            print(cls.fight(self))\n",
    "            print(\"Attaching Laser gun...\")\n",
    "            print(\"I have laser gun and I can fight.\")\n",
    "    return modify_to_fighting_robot\n",
    "\n",
    "\n",
    "@modify_robot\n",
    "class manufacture_basic_robot():\n",
    "    def __init__(self, name):\n",
    "        self.name = name \n",
    "    def fight(self):\n",
    "        return \"I am basic robot and I can't fight\"\n",
    "\n",
    "robot = manufacture_basic_robot(\"Terminator\")\n",
    "\n",
    "robot.name\n",
    "robot.fight()"
   ]
  },
  {
   "attachments": {},
   "cell_type": "markdown",
   "metadata": {},
   "source": [
    "### Method Decorator:"
   ]
  },
  {
   "cell_type": "code",
   "execution_count": 18,
   "metadata": {},
   "outputs": [
    {
     "name": "stdout",
     "output_type": "stream",
     "text": [
      "I am basic robot and I can't fight\n",
      "Attaching laser gun..\n",
      "I have laser gun and I can fight.\n"
     ]
    }
   ],
   "source": [
    "def add_laser_gun(method):\n",
    "    def wrapper(self):\n",
    "        print(method(self))\n",
    "        print(\"Attaching laser gun..\")\n",
    "        print(\"I have laser gun and I can fight.\")\n",
    "\n",
    "    return wrapper\n",
    "\n",
    "class manufacture_basic_robot():\n",
    "    def __init__(self, name):\n",
    "        self.name = name \n",
    "    @add_laser_gun\n",
    "    def fight(self):\n",
    "        return \"I am basic robot and I can't fight\"\n",
    "\n",
    "robot = manufacture_basic_robot(\"Terminator\")\n",
    "\n",
    "robot.name\n",
    "robot.fight()"
   ]
  },
  {
   "cell_type": "code",
   "execution_count": 21,
   "metadata": {},
   "outputs": [],
   "source": [
    "import datetime"
   ]
  },
  {
   "cell_type": "code",
   "execution_count": 23,
   "metadata": {},
   "outputs": [
    {
     "name": "stdout",
     "output_type": "stream",
     "text": [
      "Function 'basic_robot' called at 2023-08-07 14:44:27\n"
     ]
    },
    {
     "data": {
      "text/plain": [
       "'I am basic robot, How can I help you?'"
      ]
     },
     "execution_count": 23,
     "metadata": {},
     "output_type": "execute_result"
    }
   ],
   "source": [
    "def log_function_call(func):\n",
    "    def wrapper(*args, **kwargs):\n",
    "        timestamp = datetime.datetime.now().strftime(\"%Y-%m-%d %H:%M:%S\")\n",
    "        print(f\"Function '{func.__name__}' called at {timestamp}\")\n",
    "        return func(*args, **kwargs)\n",
    "    return wrapper\n",
    "\n",
    "@log_function_call\n",
    "def basic_robot():\n",
    "    return \"I am basic robot, How can I help you?\"\n",
    "\n",
    "basic_robot()"
   ]
  },
  {
   "cell_type": "code",
   "execution_count": 24,
   "metadata": {},
   "outputs": [
    {
     "name": "stdout",
     "output_type": "stream",
     "text": [
      "decorator 2 executing...\n",
      "deocorator 1 executing...\n",
      "400\n",
      "--------------------\n",
      "deocorator 1 executing...\n",
      "decorator 2 executing...\n",
      "200\n"
     ]
    }
   ],
   "source": [
    "\n",
    "def decor1(func):\n",
    "\tdef inner():\n",
    "\t\tx = func()\n",
    "\t\tprint('deocorator 1 executing...')\n",
    "\t\treturn x * x\n",
    "\treturn inner\n",
    "\n",
    "def decor2(func):\n",
    "\tdef inner():\n",
    "\t\tx = func()\n",
    "\t\tprint('decorator 2 executing...')\n",
    "\t\treturn 2 * x\n",
    "\treturn inner\n",
    "\n",
    "@decor1\n",
    "@decor2\n",
    "def num():\n",
    "\treturn 10\n",
    "\n",
    "@decor2\n",
    "@decor1\n",
    "def num2():\n",
    "\treturn 10\n",
    "\n",
    "print(num())\n",
    "print(\"--------------------\")\n",
    "print(num2())\n"
   ]
  }
 ],
 "metadata": {
  "kernelspec": {
   "display_name": "Python 3",
   "language": "python",
   "name": "python3"
  },
  "language_info": {
   "codemirror_mode": {
    "name": "ipython",
    "version": 3
   },
   "file_extension": ".py",
   "mimetype": "text/x-python",
   "name": "python",
   "nbconvert_exporter": "python",
   "pygments_lexer": "ipython3",
   "version": "3.10.6"
  },
  "orig_nbformat": 4
 },
 "nbformat": 4,
 "nbformat_minor": 2
}
