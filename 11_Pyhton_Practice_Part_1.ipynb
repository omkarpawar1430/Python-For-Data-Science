{
 "cells": [
  {
   "attachments": {},
   "cell_type": "markdown",
   "metadata": {},
   "source": [
    "# Practice Questions | Python for Data Science"
   ]
  },
  {
   "attachments": {},
   "cell_type": "markdown",
   "metadata": {},
   "source": [
    "### 1. Write a program that takes a list of integers as input and outputs only the even numbers in the list using a for loop and an if else statement."
   ]
  },
  {
   "cell_type": "code",
   "execution_count": 4,
   "metadata": {},
   "outputs": [
    {
     "name": "stdout",
     "output_type": "stream",
     "text": [
      "0\n",
      "2\n",
      "4\n",
      "6\n",
      "8\n"
     ]
    }
   ],
   "source": [
    "# create a list:\n",
    "my_list = [0, 1, 2, 3, 4, 5, 6, 7, 8, 9]\n",
    "# For loop:\n",
    "for i in my_list:\n",
    "    # output only the even numbers: if else: \n",
    "    if i % 2 == 0:\n",
    "        print(i)"
   ]
  },
  {
   "attachments": {},
   "cell_type": "markdown",
   "metadata": {},
   "source": [
    "### 2. Write a program that calculates the factorial of a given number using a while loop."
   ]
  },
  {
   "cell_type": "code",
   "execution_count": 5,
   "metadata": {},
   "outputs": [
    {
     "name": "stdout",
     "output_type": "stream",
     "text": [
      "24\n"
     ]
    }
   ],
   "source": [
    "# take a user input to calculate a factorial:\n",
    "num = int(input(\"Enter a number to calculate factorial: \"))\n",
    "factorial = 1\n",
    "# while loop:\n",
    "while num > 0:\n",
    "    # factorial 4 = 4*3*2*1\n",
    "    factorial *= num #factorial = factorial * num \n",
    "    num -= 1\n",
    "\n",
    "\n",
    "# print result:\n",
    "print(factorial)"
   ]
  },
  {
   "cell_type": "code",
   "execution_count": 6,
   "metadata": {},
   "outputs": [
    {
     "data": {
      "text/plain": [
       "24"
      ]
     },
     "execution_count": 6,
     "metadata": {},
     "output_type": "execute_result"
    }
   ],
   "source": [
    "def factorial(n):\n",
    "    if n == 0:\n",
    "        return 1\n",
    "    else:\n",
    "        return n * factorial(n-1)\n",
    "\n",
    "factorial(4)\n"
   ]
  },
  {
   "cell_type": "markdown",
   "metadata": {},
   "source": [
    "### 3. Write a program that takes a dictionary of student names and their grades as input and outputs the students who passed the class (defined as having a grade of 60 or higher)."
   ]
  },
  {
   "cell_type": "code",
   "execution_count": 8,
   "metadata": {},
   "outputs": [
    {
     "name": "stdout",
     "output_type": "stream",
     "text": [
      "a got 38, You failed the exam.\n",
      "b got 60, You passed the exam.\n",
      "c got 97, You passed the exam.\n",
      "d got 83, You passed the exam.\n"
     ]
    }
   ],
   "source": [
    "# Dict: \n",
    "score = {'a': 38, 'b':60, 'c': 97, 'd':83}\n",
    "\n",
    "for i in score:\n",
    "    # print(i)\n",
    "    marks = score[i]\n",
    "    if marks >= 60:\n",
    "        print(f'{i} got {marks}, You passed the exam.')\n",
    "    else:\n",
    "        print(f'{i} got {marks}, You failed the exam.')"
   ]
  },
  {
   "attachments": {},
   "cell_type": "markdown",
   "metadata": {},
   "source": [
    "### 4. Write a program that takes two lists of numbers as input and outputs the numbers that appear in both lists."
   ]
  },
  {
   "cell_type": "code",
   "execution_count": 9,
   "metadata": {},
   "outputs": [
    {
     "name": "stdout",
     "output_type": "stream",
     "text": [
      "2\n",
      "5\n",
      "9\n"
     ]
    }
   ],
   "source": [
    "# create two list of integers: \n",
    "list1 = [1, 2, 5, 8, 9]\n",
    "list2 = [2, 5, 3, 4, 9] \n",
    "\n",
    "for i in list1:\n",
    "    if i in list2:\n",
    "        print(i)"
   ]
  },
  {
   "attachments": {},
   "cell_type": "markdown",
   "metadata": {},
   "source": [
    "### 5. Write a program that takes a set of strings as input and outputs the length of each string in the set."
   ]
  },
  {
   "cell_type": "code",
   "execution_count": 11,
   "metadata": {},
   "outputs": [
    {
     "name": "stdout",
     "output_type": "stream",
     "text": [
      "3\n",
      "7\n",
      "5\n",
      "6\n",
      "{'Raj': 3, 'Nandini': 7, 'Omkar': 5, 'Aparna': 6}\n"
     ]
    }
   ],
   "source": [
    "my_set = {'Omkar', 'Raj', 'Nandini', 'Aparna'}\n",
    "\n",
    "name = {}\n",
    "for i in my_set:\n",
    "    print(len(i))\n",
    "    name[i] = len(i)\n",
    "print(name)"
   ]
  },
  {
   "attachments": {},
   "cell_type": "markdown",
   "metadata": {},
   "source": [
    "## Few More Questions to Tackle:"
   ]
  },
  {
   "attachments": {},
   "cell_type": "markdown",
   "metadata": {},
   "source": [
    "Write a program that takes a string as input and outputs the number of vowels in the string.\n",
    "\n",
    "Write a program that takes a list of numbers as input and outputs the largest number in the list.\n",
    "\n",
    "Write a program that takes a dictionary of items and their prices as input and outputs the total cost of all the items.\n",
    "\n",
    "Write a program that takes two sets of numbers as input and outputs the numbers that appear in the first set but not in the second set.\n",
    "\n",
    "Write a program that takes a tuple of names as input and outputs the names in alphabetical order."
   ]
  }
 ],
 "metadata": {
  "kernelspec": {
   "display_name": "Python 3",
   "language": "python",
   "name": "python3"
  },
  "language_info": {
   "codemirror_mode": {
    "name": "ipython",
    "version": 3
   },
   "file_extension": ".py",
   "mimetype": "text/x-python",
   "name": "python",
   "nbconvert_exporter": "python",
   "pygments_lexer": "ipython3",
   "version": "3.10.6"
  },
  "orig_nbformat": 4
 },
 "nbformat": 4,
 "nbformat_minor": 2
}
