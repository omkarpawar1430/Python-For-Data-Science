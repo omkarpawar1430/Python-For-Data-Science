{
 "cells": [
  {
   "attachments": {},
   "cell_type": "markdown",
   "metadata": {},
   "source": [
    "# Functions | Python for Data Science"
   ]
  },
  {
   "cell_type": "code",
   "execution_count": 2,
   "metadata": {},
   "outputs": [
    {
     "name": "stdout",
     "output_type": "stream",
     "text": [
      "24\n"
     ]
    }
   ],
   "source": [
    "# take a user input to calculate a factorial:\n",
    "num = int(input(\"Enter a number to calculate factorial: \"))\n",
    "factorial = 1\n",
    "# while loop:\n",
    "while num > 0:\n",
    "    # factorial 4 = 4*3*2*1\n",
    "    factorial *= num #factorial = factorial * num \n",
    "    num -= 1\n",
    "print(factorial)"
   ]
  },
  {
   "cell_type": "code",
   "execution_count": 3,
   "metadata": {},
   "outputs": [],
   "source": [
    "def fact():\n",
    "    # take a user input to calculate a factorial:\n",
    "    num = int(input(\"Enter a number to calculate factorial: \"))\n",
    "    factorial = 1\n",
    "    # while loop:\n",
    "    while num > 0:\n",
    "        # factorial 4 = 4*3*2*1\n",
    "        factorial *= num #factorial = factorial * num \n",
    "        num -= 1\n",
    "    print(factorial)"
   ]
  },
  {
   "cell_type": "code",
   "execution_count": 4,
   "metadata": {},
   "outputs": [
    {
     "name": "stdout",
     "output_type": "stream",
     "text": [
      "24\n"
     ]
    }
   ],
   "source": [
    "fact()"
   ]
  },
  {
   "cell_type": "code",
   "execution_count": 9,
   "metadata": {},
   "outputs": [
    {
     "name": "stdout",
     "output_type": "stream",
     "text": [
      "24\n"
     ]
    }
   ],
   "source": [
    "def fact(num):\n",
    "    \"\"\"\n",
    "    This function calculates the factorial of a number.\n",
    "    \"\"\"\n",
    "    # take a user input to calculate a factorial:\n",
    "    # num = int(input(\"Enter a number to calculate factorial: \"))\n",
    "    factorial = 1\n",
    "    # while loop:\n",
    "    while num > 0:\n",
    "        # factorial 4 = 4*3*2*1\n",
    "        factorial *= num #factorial = factorial * num \n",
    "        num -= 1\n",
    "    print(factorial)\n",
    "\n",
    "fact(4)"
   ]
  },
  {
   "cell_type": "code",
   "execution_count": 1,
   "metadata": {},
   "outputs": [
    {
     "data": {
      "text/plain": [
       "24"
      ]
     },
     "execution_count": 1,
     "metadata": {},
     "output_type": "execute_result"
    }
   ],
   "source": [
    "def fact(num):\n",
    "    if num == 0:\n",
    "        return 1 \n",
    "    else:\n",
    "        return num * fact(num - 1) # 4 * 3 * 2 * 1 \n",
    "    \n",
    "fact(4)"
   ]
  },
  {
   "cell_type": "code",
   "execution_count": 2,
   "metadata": {},
   "outputs": [
    {
     "name": "stdout",
     "output_type": "stream",
     "text": [
      "32\n",
      "23\n",
      "32\n"
     ]
    }
   ],
   "source": [
    "x = 23 # global\n",
    "\n",
    "def dummy():\n",
    "    y = 32 # local\n",
    "    print(y)\n",
    "    print(x)\n",
    "    \n",
    "dummy()\n",
    "print(y)\n"
   ]
  },
  {
   "cell_type": "code",
   "execution_count": null,
   "metadata": {},
   "outputs": [],
   "source": []
  }
 ],
 "metadata": {
  "kernelspec": {
   "display_name": "Python 3",
   "language": "python",
   "name": "python3"
  },
  "language_info": {
   "codemirror_mode": {
    "name": "ipython",
    "version": 3
   },
   "file_extension": ".py",
   "mimetype": "text/x-python",
   "name": "python",
   "nbconvert_exporter": "python",
   "pygments_lexer": "ipython3",
   "version": "3.10.12"
  },
  "orig_nbformat": 4
 },
 "nbformat": 4,
 "nbformat_minor": 2
}
