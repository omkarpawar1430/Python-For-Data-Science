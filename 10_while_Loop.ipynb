{
 "cells": [
  {
   "attachments": {},
   "cell_type": "markdown",
   "metadata": {},
   "source": [
    "# While Loop | Python for Data Science"
   ]
  },
  {
   "cell_type": "code",
   "execution_count": null,
   "metadata": {},
   "outputs": [],
   "source": [
    "while cond:\n",
    "    block of code"
   ]
  },
  {
   "cell_type": "code",
   "execution_count": 2,
   "metadata": {},
   "outputs": [
    {
     "name": "stdout",
     "output_type": "stream",
     "text": [
      "0\n",
      "1\n",
      "2\n",
      "3\n",
      "4\n",
      "5\n",
      "6\n",
      "7\n",
      "8\n",
      "9\n"
     ]
    }
   ],
   "source": [
    "x = 0\n",
    "while x < 10:\n",
    "    print(x)\n",
    "    x = x + 1 "
   ]
  },
  {
   "cell_type": "code",
   "execution_count": 4,
   "metadata": {},
   "outputs": [
    {
     "name": "stdout",
     "output_type": "stream",
     "text": [
      "Welcome to the number guessing Game!!!\n",
      "Guess a Number between Zero to Ten\n",
      "Your answer is right!\n"
     ]
    }
   ],
   "source": [
    "# take user input\n",
    "print(\"Welcome to the number guessing Game!!!\")\n",
    "print(\"Guess a Number between Zero to Ten\")\n",
    "num = 3 \n",
    "\n",
    "# while loop to check our guess:\n",
    "flag = True\n",
    "\n",
    "while flag:\n",
    "    guess = int(input(\"Enter your guess: \"))\n",
    "    if guess == num:\n",
    "        print(\"Your answer is right!\")\n",
    "        break\n",
    "        # flag = False\n",
    "    elif guess < num:\n",
    "        print(\"Too low\")\n",
    "    else:\n",
    "        print(\"Too high\")"
   ]
  },
  {
   "attachments": {},
   "cell_type": "markdown",
   "metadata": {},
   "source": [
    "### Practice:"
   ]
  },
  {
   "attachments": {},
   "cell_type": "markdown",
   "metadata": {},
   "source": [
    "Write a program that asks the user to enter a number, and then prints out all the even numbers from 2 to that number.\n",
    "\n",
    "Write a program that generates a random number between 1 and 100, and then asks the user to guess the number. The program should keep asking for guesses until the user correctly guesses the number.\n",
    "\n",
    "Write a program that asks the user to enter a word, and then prints out each letter of the word on a new line.\n",
    "\n",
    "Write a program that asks the user to enter a number, and then prints out the factorial of that number.\n",
    "\n",
    "Write a program that asks the user to enter a password, and keeps asking for the password until the user enters the correct password."
   ]
  },
  {
   "cell_type": "markdown",
   "metadata": {},
   "source": []
  }
 ],
 "metadata": {
  "kernelspec": {
   "display_name": "Python 3",
   "language": "python",
   "name": "python3"
  },
  "language_info": {
   "codemirror_mode": {
    "name": "ipython",
    "version": 3
   },
   "file_extension": ".py",
   "mimetype": "text/x-python",
   "name": "python",
   "nbconvert_exporter": "python",
   "pygments_lexer": "ipython3",
   "version": "3.10.6"
  },
  "orig_nbformat": 4
 },
 "nbformat": 4,
 "nbformat_minor": 2
}
